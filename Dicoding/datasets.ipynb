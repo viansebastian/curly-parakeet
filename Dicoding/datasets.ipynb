{
 "cells": [
  {
   "cell_type": "code",
   "execution_count": 28,
   "metadata": {},
   "outputs": [
    {
     "name": "stdout",
     "output_type": "stream",
     "text": [
      "random_state ditentukan\n",
      "[3, 8, 4]\n",
      "[3, 8, 4]\n",
      "[3, 8, 4]\n",
      "[3, 8, 4]\n",
      "[3, 8, 4]\n",
      "[3, 8, 4]\n",
      "random_state is not defined\n",
      "[9, 1, 7]\n",
      "[9, 1, 7]\n",
      "[5, 0, 2]\n",
      "[5, 0, 2]\n",
      "[2, 5, 7]\n",
      "[2, 5, 7]\n"
     ]
    }
   ],
   "source": [
    "from sklearn.model_selection import train_test_split\n",
    " \n",
    "X_data = range(10)\n",
    "y_data = range(10)\n",
    " \n",
    "print(\"random_state ditentukan\")\n",
    "for i in range(3):\n",
    "    X_train, X_test, y_train, y_test = train_test_split(X_data, y_data, test_size =0.3, random_state =4)  \n",
    "    print(X_test)\n",
    "    # print(y_test)\n",
    " \n",
    " \n",
    "print ( \"random_state is not defined\" )\n",
    "for i in range(3):\n",
    "    X_train, X_test, y_train, y_test = train_test_split(X_data, y_data, test_size =0.3, random_state =None)  \n",
    "    print(X_test)\n",
    "    # print(y_test)\n"
   ]
  }
 ],
 "metadata": {
  "kernelspec": {
   "display_name": "base",
   "language": "python",
   "name": "python3"
  },
  "language_info": {
   "codemirror_mode": {
    "name": "ipython",
    "version": 3
   },
   "file_extension": ".py",
   "mimetype": "text/x-python",
   "name": "python",
   "nbconvert_exporter": "python",
   "pygments_lexer": "ipython3",
   "version": "3.11.4"
  }
 },
 "nbformat": 4,
 "nbformat_minor": 2
}
