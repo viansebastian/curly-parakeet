{
 "cells": [
  {
   "cell_type": "markdown",
   "metadata": {},
   "source": [
    "Data Preparations using Normalization and Standardization"
   ]
  },
  {
   "cell_type": "code",
   "execution_count": 2,
   "metadata": {},
   "outputs": [
    {
     "name": "stdout",
     "output_type": "stream",
     "text": [
      "[[3500000, 45], [4000000, 23], [6500000, 26], [9000000, 29], [12000000, 33]]\n",
      "[[12000000, 33], [9000000, 29], [6500000, 26], [4000000, 23], [3500000, 45]]\n",
      "[[4000000, 23], [6500000, 26], [9000000, 29], [12000000, 33], [3500000, 45]]\n",
      "[[3500000, 45], [12000000, 33], [9000000, 29], [6500000, 26], [4000000, 23]]\n"
     ]
    }
   ],
   "source": [
    "from sklearn.preprocessing import MinMaxScaler\n",
    "\n",
    "data = [[12000000, 33], [3500000, 45], [4000000, 23], [6500000, 26], [9000000, 29]]\n",
    "\n",
    "def index(i): \n",
    "    return data[i]\n",
    "\n",
    "print(sorted(data)) # or print(sorted(data, reverse = False)) \n",
    "print(sorted(data, reverse = True)) \n",
    "print(sorted(data, key = lambda x : x[1], reverse = False)) \n",
    "print(sorted(data, key = lambda x : x[1], reverse = True)) \n"
   ]
  },
  {
   "cell_type": "code",
   "execution_count": 5,
   "metadata": {},
   "outputs": [
    {
     "name": "stdout",
     "output_type": "stream",
     "text": [
      "MinMaxScaler()\n",
      "[[0.25806452 0.45454545]\n",
      " [1.         1.        ]\n",
      " [0.         0.        ]\n",
      " [0.08064516 0.13636364]\n",
      " [0.16129032 0.27272727]]\n"
     ]
    }
   ],
   "source": [
    "scaler = MinMaxScaler()\n",
    "scaler.fit(data)\n",
    "\n",
    "print(scaler)\n",
    "\n",
    "print(scaler.transform(data))"
   ]
  },
  {
   "cell_type": "code",
   "execution_count": 4,
   "metadata": {},
   "outputs": [
    {
     "data": {
      "text/plain": [
       "array([[-0.11638732,  0.23521877],\n",
       "       [ 1.94277296,  1.80334389],\n",
       "       [-0.83261698, -1.07155217],\n",
       "       [-0.60879521, -0.67952089],\n",
       "       [-0.38497344, -0.28748961]])"
      ]
     },
     "execution_count": 4,
     "metadata": {},
     "output_type": "execute_result"
    }
   ],
   "source": [
    "from sklearn import preprocessing \n",
    "\n",
    "data =[[12000000,33],[35000000,45],[4000000,23],[6500000,26],[9000000,29]]\n",
    "\n",
    "scaler = preprocessing.StandardScaler().fit(data)\n",
    "\n",
    "data = scaler.transform(data)\n",
    "\n",
    "data"
   ]
  }
 ],
 "metadata": {
  "kernelspec": {
   "display_name": "base",
   "language": "python",
   "name": "python3"
  },
  "language_info": {
   "codemirror_mode": {
    "name": "ipython",
    "version": 3
   },
   "file_extension": ".py",
   "mimetype": "text/x-python",
   "name": "python",
   "nbconvert_exporter": "python",
   "pygments_lexer": "ipython3",
   "version": "3.11.4"
  }
 },
 "nbformat": 4,
 "nbformat_minor": 2
}
